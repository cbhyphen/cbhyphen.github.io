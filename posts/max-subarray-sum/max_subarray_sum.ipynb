{
  "nbformat": 4,
  "nbformat_minor": 0,
  "metadata": {
    "colab": {
      "provenance": []
    },
    "kernelspec": {
      "name": "python3",
      "display_name": "Python 3"
    },
    "language_info": {
      "name": "python"
    }
  },
  "cells": [
    {
      "cell_type": "markdown",
      "source": [
        "---\n",
        "title: \"Maximum Subarray Sum\"\n",
        "author: \"chris\"\n",
        "date: 2024-08-31\n",
        "draft: false\n",
        "---"
      ],
      "metadata": {
        "id": "0WQZAgno0YVl"
      }
    },
    {
      "cell_type": "markdown",
      "source": [
        "It's been a few months since I posted due to health issues, but I'm breaking the silence with something small today.  Most of my posts have been deep dives so this will be a nice change up.\n",
        "\n",
        "Even if I'm not working on any side projects outside of work, I tend to fulfill my curiosity (ok maybe obsession) via some kind of MOOC or programming challenge.  I picked up this habit while filling gaps in my computer science knowledge (undergraduate math and statistics background) and it hasn't quite stopped."
      ],
      "metadata": {
        "id": "QToXuDyqa9ii"
      }
    },
    {
      "cell_type": "markdown",
      "source": [
        "Apropos to that, I came across the [\"Best Time to Buy and Sell Stock\" problem](https://leetcode.com/problems/best-time-to-buy-and-sell-stock/description/) the other day.  The problem setup is pretty simple; given an array of daily stock prices, find the maximum profit possible by buying one day and selling another.\n",
        "\n",
        "The naive/brute force solution that you might imagine (two pointers) actually fails a time limit because of its $O(n^2)$ time complexity.  When I first saw it, it smelled a lot like DP and the [Maximum Subarray Sum problem](https://en.wikipedia.org/wiki/Maximum_subarray_problem) that I had seen in my graduate algorithms class.  After solving it, I realized the DP approach wasn't entirely obvious to most people who attempted the problem.  The official solution even misses presenting it this way, so in this post I want to go through that problem/solution framing and explain how/why it works."
      ],
      "metadata": {
        "id": "ub4rD6mmNq4j"
      }
    },
    {
      "cell_type": "markdown",
      "source": [
        "In the 'maximum subarray sum' problem , we're given an array of numbers and want to find the maximum sum of a contiguous subarray.  We can't use this as a drop-in solution to the buy and sell problem though, as it would give us a sum of prices (could call it the most expensive period) instead of profits.  However, if you take daily price differences, then you can use the same approach."
      ],
      "metadata": {
        "id": "vKOl9jI7mOg3"
      }
    },
    {
      "cell_type": "markdown",
      "source": [
        "Let's define the prices array as\n",
        "\n",
        "$$ P = [p_0, p_1, ... p_{n-1}, p_n] $$\n",
        "\n",
        "and a price difference array as\n",
        "\n",
        "$$ d_i = p_i - p_{i-1} $$\n",
        "\n",
        "The price differences array is\n",
        "\n",
        "$$ D = [d_0, d_1, ... d_{n-1}, d_n] $$\n",
        "\n",
        "where $d_0 = 0$ since buy/selling the same day is zero profit.\n",
        "\n",
        "To illustrate how a contiguous sum of price differences amounts to profit, let's say we want to buy at $p_3$ and sell at $p_6$ for a profit of $p_6 - p_3$.  If during that time period you sell and rebuy everyday, this is the same as\n",
        "\n",
        "$$ (p_6 - p_5) + (p_5 - p_4) + (p_4 - p_3) $$\n",
        "\n",
        "which are just the sum of price differences\n",
        "\n",
        "$$ d_6 + d_5 + d_4 $$\n",
        "\n",
        "so a contiguous sum of price differences is the same as buying one day and selling another day.\n"
      ],
      "metadata": {
        "id": "nhVnxu43WyPn"
      }
    },
    {
      "cell_type": "markdown",
      "source": [
        "The DP solution I devised uses 1-D table $T$ to keep track of contiguous sums.  The base case is\n",
        "\n",
        "$$ t_0 = 0 $$\n",
        "\n",
        "and the recurrence relation is\n",
        "\n",
        "$$ t_i = d_i + max(0, t_{i-1}) $$\n",
        "\n",
        "The max is there because we don't want to carry any negative profits.  Put in words, the recurrence says that the max profit today is; today's price difference plus yesterday's max profit but only if yesterday's max profit is greater than zero.\n",
        "\n",
        "Finally, we just take the maximum value from table $T$ and the algorithm looks something like below.\n"
      ],
      "metadata": {
        "id": "zCZ2dZ23t3bJ"
      }
    },
    {
      "cell_type": "code",
      "source": [
        "def max_profit(prices: list[int]) -> int:\n",
        "    diffs = [0] + [prices[i] - prices[i - 1] for i in range(1, len(prices))]\n",
        "    T = [None] * len(prices)  # pretend fixed size array\n",
        "    T[0] = 0\n",
        "    for i in range(1, len(prices)):\n",
        "        T[i] = diffs[i] + max(0, T[i - 1])\n",
        "    return max(T)"
      ],
      "metadata": {
        "id": "Bg9hnok_b-Ef"
      },
      "execution_count": 7,
      "outputs": []
    },
    {
      "cell_type": "markdown",
      "source": [
        "Here's a small example to verify this works as expected."
      ],
      "metadata": {
        "id": "R8ntu3JOwZtp"
      }
    },
    {
      "cell_type": "code",
      "source": [
        "prices = [23, 27, 26, 22, 27, 26, 24, 29, 28]"
      ],
      "metadata": {
        "id": "XQgLh4iNvb0R"
      },
      "execution_count": 9,
      "outputs": []
    },
    {
      "cell_type": "markdown",
      "source": [
        "Looking at the diffs helps to see what the max profit should be for this prices array (`7`)."
      ],
      "metadata": {
        "id": "qtqQcVInwPnM"
      }
    },
    {
      "cell_type": "code",
      "source": [
        "diffs = [0] + [prices[i] - prices[i - 1] for i in range(1, len(prices))]\n",
        "print(diffs)"
      ],
      "metadata": {
        "colab": {
          "base_uri": "https://localhost:8080/"
        },
        "id": "hOxtYJCawN1Y",
        "outputId": "ca69117b-24a9-4e98-b2fa-33b774948d1f"
      },
      "execution_count": 10,
      "outputs": [
        {
          "output_type": "stream",
          "name": "stdout",
          "text": [
            "[0, 4, -1, -4, 5, -1, -2, 5, -1]\n"
          ]
        }
      ]
    },
    {
      "cell_type": "code",
      "source": [
        "max_p = max_profit(prices)\n",
        "print(max_p)"
      ],
      "metadata": {
        "colab": {
          "base_uri": "https://localhost:8080/"
        },
        "id": "mbAMc46twlVj",
        "outputId": "630a70e6-bff0-46ec-b907-56c7ee97db0c"
      },
      "execution_count": 11,
      "outputs": [
        {
          "output_type": "stream",
          "name": "stdout",
          "text": [
            "7\n"
          ]
        }
      ]
    },
    {
      "cell_type": "markdown",
      "source": [
        "The code could be optimized by keeping track of the best max at each step but the time complexity would still be $O(n)$."
      ],
      "metadata": {
        "id": "b5-AO0qSva7N"
      }
    }
  ]
}