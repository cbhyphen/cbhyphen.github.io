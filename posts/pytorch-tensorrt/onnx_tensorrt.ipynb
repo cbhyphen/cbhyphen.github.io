{
  "nbformat": 4,
  "nbformat_minor": 0,
  "metadata": {
    "colab": {
      "provenance": [],
      "machine_shape": "hm",
      "gpuType": "L4"
    },
    "kernelspec": {
      "name": "python3",
      "display_name": "Python 3"
    },
    "language_info": {
      "name": "python"
    },
    "accelerator": "GPU"
  },
  "cells": [
    {
      "cell_type": "markdown",
      "source": [
        "---\n",
        "title: \"Speeding up Inference with TensorRT\"\n",
        "author: \"chris\"\n",
        "date: 2024-05-27\n",
        "draft: false\n",
        "---"
      ],
      "metadata": {
        "id": "A9dd8Ap9hTgU"
      }
    },
    {
      "cell_type": "markdown",
      "source": [
        "follow up post to pytorch quantization ... can we make it faster with GPU and TensorRT"
      ],
      "metadata": {
        "id": "BT5j7sb7gPJp"
      }
    },
    {
      "cell_type": "code",
      "source": [],
      "metadata": {
        "id": "62hA1w2emFWJ"
      },
      "execution_count": null,
      "outputs": []
    },
    {
      "cell_type": "code",
      "source": [
        "# random colab error: \"A UTF-8 locale is required. Got ANSI_X3.4-1968\"\n",
        "# https://github.com/googlecolab/colabtools/issues/3409\n",
        "\n",
        "import locale\n",
        "locale.getpreferredencoding = lambda: \"UTF-8\""
      ],
      "metadata": {
        "id": "n--1mEV8YsiY"
      },
      "execution_count": 1,
      "outputs": []
    },
    {
      "cell_type": "markdown",
      "source": [
        "get FasterRCNN as before with a resnet101 backbone..."
      ],
      "metadata": {
        "id": "QDiHrmX7GOtt"
      }
    },
    {
      "cell_type": "code",
      "source": [
        "%%capture\n",
        "\n",
        "import torch\n",
        "from torchvision.models.resnet import ResNet, Bottleneck, ResNet101_Weights\n",
        "from torchvision.models._utils import IntermediateLayerGetter\n",
        "from torchvision.models.detection.backbone_utils import BackboneWithFPN\n",
        "from torchvision.models.detection.faster_rcnn import FasterRCNN\n",
        "\n",
        "\n",
        "def resnet_101():\n",
        "    resnet = ResNet(block=Bottleneck, layers=[3, 4, 23, 3])\n",
        "    resnet.load_state_dict(ResNet101_Weights.DEFAULT.get_state_dict(progress=True))\n",
        "    return resnet\n",
        "\n",
        "\n",
        "resnet = resnet_101()\n",
        "\n",
        "# same as before, get intermediate layers and their output dimensions\n",
        "returned_layers = [1, 2, 3, 4]\n",
        "return_layers = {f\"layer{k}\": str(v) for v, k in enumerate(returned_layers)}\n",
        "in_channels_list = []\n",
        "for k1, m1 in resnet.named_children():\n",
        "    if 'layer' in k1:\n",
        "        in_channels_list.append((m1[-1].bn3.num_features))\n",
        "\n",
        "rcnn = FasterRCNN(\n",
        "    BackboneWithFPN(\n",
        "        backbone=resnet,\n",
        "        return_layers=return_layers,\n",
        "        in_channels_list=in_channels_list,\n",
        "        out_channels=256,\n",
        "        extra_blocks=None,\n",
        "        norm_layer=None,\n",
        "        ),\n",
        "    num_classes=2\n",
        ")\n",
        "\n",
        "rcnn.eval()"
      ],
      "metadata": {
        "id": "d4JoXjgZyB_D"
      },
      "execution_count": 3,
      "outputs": []
    },
    {
      "cell_type": "markdown",
      "source": [
        "time the RCNN on both CPU and GPU.  I don't recall what the specs were the last time I used colab to profile the inference time so I'll document that here as well.  I'm using a T4 GPU and the following CPU"
      ],
      "metadata": {
        "id": "CpEzZqORGVmb"
      }
    },
    {
      "cell_type": "code",
      "source": [
        "# !cat /proc/cpuinfo  | grep 'name' | uniq\n",
        "!lscpu | grep 'name'"
      ],
      "metadata": {
        "colab": {
          "base_uri": "https://localhost:8080/"
        },
        "id": "4OLr1uWrGsct",
        "outputId": "fa2236d5-0840-479b-abff-b1bae1ea82d8"
      },
      "execution_count": 4,
      "outputs": [
        {
          "output_type": "stream",
          "name": "stdout",
          "text": [
            "Model name:                           Intel(R) Xeon(R) CPU @ 2.20GHz\n"
          ]
        }
      ]
    },
    {
      "cell_type": "code",
      "source": [
        "!nvidia-smi -L"
      ],
      "metadata": {
        "colab": {
          "base_uri": "https://localhost:8080/"
        },
        "id": "vEOPFQatLmMy",
        "outputId": "fc5a4674-a2ca-49d8-dbc9-db204c3a9e6f"
      },
      "execution_count": 5,
      "outputs": [
        {
          "output_type": "stream",
          "name": "stdout",
          "text": [
            "GPU 0: NVIDIA L4 (UUID: GPU-393b8fe1-1ca8-7aaf-94b9-04eef8e2fda5)\n"
          ]
        }
      ]
    },
    {
      "cell_type": "code",
      "source": [
        "# random image\n",
        "image = torch.rand(3, 200, 200)\n",
        "# put on CPU\n",
        "rcnn.to(torch.device('cpu'))\n",
        "image_cpu = image.to(torch.device('cpu'))\n",
        "\n",
        "with torch.no_grad():\n",
        "    cpu_time = %timeit -o rcnn([image_cpu])"
      ],
      "metadata": {
        "colab": {
          "base_uri": "https://localhost:8080/"
        },
        "id": "MwJ7sfCI7sjl",
        "outputId": "0f904955-6634-4ed8-cd69-3f27840ada77"
      },
      "execution_count": 109,
      "outputs": [
        {
          "output_type": "stream",
          "name": "stdout",
          "text": [
            "1.47 s ± 137 ms per loop (mean ± std. dev. of 7 runs, 1 loop each)\n"
          ]
        }
      ]
    },
    {
      "cell_type": "code",
      "source": [
        "from copy import deepcopy\n",
        "\n",
        "# on GPU\n",
        "rcnn_gpu = deepcopy(rcnn).to(torch.device('cuda'))\n",
        "# rcnn.to(torch.device('cuda'))\n",
        "image_gpu = image.to(torch.device('cuda'))\n",
        "\n",
        "with torch.no_grad():\n",
        "    gpu_time = %timeit -o rcnn_gpu([image_gpu])"
      ],
      "metadata": {
        "colab": {
          "base_uri": "https://localhost:8080/"
        },
        "id": "Ksm0gZ6p72xB",
        "outputId": "26a679b0-e7f7-4185-f34c-bc6b294e984e"
      },
      "execution_count": 110,
      "outputs": [
        {
          "output_type": "stream",
          "name": "stdout",
          "text": [
            "37.9 ms ± 235 µs per loop (mean ± std. dev. of 7 runs, 10 loops each)\n"
          ]
        }
      ]
    },
    {
      "cell_type": "markdown",
      "source": [
        "we can also test with half precision..."
      ],
      "metadata": {
        "id": "bg5cr_ZWNu1q"
      }
    },
    {
      "cell_type": "code",
      "source": [
        "rcnn_gpu_half = rcnn_gpu.half().to(torch.device('cuda'))\n",
        "input_half = image_gpu.half()\n",
        "\n",
        "with torch.no_grad():\n",
        "    gpu_half_time = %timeit -o rcnn_gpu_half([input_half])"
      ],
      "metadata": {
        "colab": {
          "base_uri": "https://localhost:8080/"
        },
        "id": "FmnqW54iM_l7",
        "outputId": "fc71979d-2d72-4c39-f0fd-4e5d22769230"
      },
      "execution_count": 111,
      "outputs": [
        {
          "output_type": "stream",
          "name": "stdout",
          "text": [
            "29.1 ms ± 1.13 ms per loop (mean ± std. dev. of 7 runs, 10 loops each)\n"
          ]
        }
      ]
    },
    {
      "cell_type": "markdown",
      "source": [
        "also re-clock the quantized model using FX Graph Mode since it's performance is also CPU specific"
      ],
      "metadata": {
        "id": "1u_V_fCuFmLR"
      }
    },
    {
      "cell_type": "code",
      "source": [
        "%%capture\n",
        "from torch.ao.quantization import quantize_fx\n",
        "from torch.ao.quantization.qconfig_mapping import get_default_qconfig_mapping\n",
        "\n",
        "\n",
        "quant_rcnn = deepcopy(rcnn)\n",
        "\n",
        "qconfig_mapping = get_default_qconfig_mapping(\"fbgemm\")  # \"qnnpack\"\n",
        "# assume calibrated already\n",
        "quant_rcnn.eval()\n",
        "quant_rcnn.to(torch.device('cpu'))\n",
        "# prepare and quantize\n",
        "example_input = torch.randn(1, 3, 200, 200)\n",
        "quant_rcnn.backbone = quantize_fx.prepare_fx(quant_rcnn.backbone, qconfig_mapping, example_input)\n",
        "quant_rcnn.backbone = quantize_fx.convert_fx(quant_rcnn.backbone)\n",
        "\n",
        "script_module = torch.jit.script(quant_rcnn)\n",
        "script_module.save(\"./quant_rcnn.pt\")\n",
        "quant_rcnn_jit = torch.jit.load(\"./quant_rcnn.pt\", map_location=torch.device('cpu'))"
      ],
      "metadata": {
        "id": "wbJ0CJBaBmav"
      },
      "execution_count": 11,
      "outputs": []
    },
    {
      "cell_type": "code",
      "source": [
        "import warnings\n",
        "\n",
        "# warmup\n",
        "with warnings.catch_warnings():\n",
        "    warnings.simplefilter('ignore')\n",
        "    for _ in range(3):\n",
        "        __ = quant_rcnn_jit([image_cpu])\n",
        "\n",
        "with torch.no_grad():\n",
        "    quant_time = %timeit -o quant_rcnn_jit([image_cpu])"
      ],
      "metadata": {
        "colab": {
          "base_uri": "https://localhost:8080/"
        },
        "id": "PuUDsHb9Dx0c",
        "outputId": "da6c8f97-c132-47c0-d677-b81839aa1003"
      },
      "execution_count": 112,
      "outputs": [
        {
          "output_type": "stream",
          "name": "stdout",
          "text": [
            "652 ms ± 81 ms per loop (mean ± std. dev. of 7 runs, 1 loop each)\n"
          ]
        }
      ]
    },
    {
      "cell_type": "code",
      "source": [],
      "metadata": {
        "id": "eLbX86tVZCg3"
      },
      "execution_count": null,
      "outputs": []
    },
    {
      "cell_type": "markdown",
      "source": [
        "Below I convert the float model to onnx.  I went through onnx because that used to be the preferred way of converting to TensorRT.  However, the onnx conversion didn't play well with the `trtexec` command line utility for TensorRT regardless of the torch to onnx exporter used.  Below the [old torch script onnx converter](https://pytorch.org/docs/stable/onnx_torchscript.html) is used but the [newer 'dynamo' converter](https://pytorch.org/docs/stable/onnx_dynamo.html) also had issues.  Thankfully PyTorch has a very easy TensorRT API now, but I keep the ONNX model and evaluate it to see if a simple conversion offers any benefits."
      ],
      "metadata": {
        "id": "PJGIDCMxH6MU"
      }
    },
    {
      "cell_type": "code",
      "source": [
        "%%capture\n",
        "\n",
        "!pip install onnx\n",
        "!pip install onnxruntime"
      ],
      "metadata": {
        "id": "Ak4nk7AmzI6h"
      },
      "execution_count": 14,
      "outputs": []
    },
    {
      "cell_type": "code",
      "source": [
        "import onnx\n",
        "\n",
        "torch.onnx.export(\n",
        "    deepcopy(rcnn),\n",
        "    # onnx wants a tuple of 2 or bombs:  https://github.com/zhiqwang/yolort/issues/485\n",
        "    ([torch.randn(3, 200, 200)], ),\n",
        "    \"rcnn.onnx\",\n",
        "    # do_constant_folding=True,\n",
        "    opset_version = 11,\n",
        "    verbose=False\n",
        "    )\n",
        "# make sure the onnx proto is valid\n",
        "rcnn_onnx = onnx.load(\"rcnn.onnx\")\n",
        "onnx.checker.check_model(rcnn_onnx)"
      ],
      "metadata": {
        "colab": {
          "base_uri": "https://localhost:8080/"
        },
        "id": "lSVGaGV7fj69",
        "outputId": "bba7b721-159f-4c2b-ce53-ae5ca800489b"
      },
      "execution_count": 8,
      "outputs": [
        {
          "output_type": "stream",
          "name": "stderr",
          "text": [
            "/usr/local/lib/python3.10/dist-packages/torch/nn/functional.py:4009: UserWarning: To copy construct from a tensor, it is recommended to use sourceTensor.clone().detach() or sourceTensor.clone().detach().requires_grad_(True), rather than torch.tensor(sourceTensor).\n",
            "  (torch.floor((input.size(i + 2).float() * torch.tensor(scale_factors[i], dtype=torch.float32)).float()))\n",
            "/usr/local/lib/python3.10/dist-packages/torchvision/ops/boxes.py:166: UserWarning: To copy construct from a tensor, it is recommended to use sourceTensor.clone().detach() or sourceTensor.clone().detach().requires_grad_(True), rather than torch.tensor(sourceTensor).\n",
            "  boxes_x = torch.min(boxes_x, torch.tensor(width, dtype=boxes.dtype, device=boxes.device))\n",
            "/usr/local/lib/python3.10/dist-packages/torchvision/ops/boxes.py:168: UserWarning: To copy construct from a tensor, it is recommended to use sourceTensor.clone().detach() or sourceTensor.clone().detach().requires_grad_(True), rather than torch.tensor(sourceTensor).\n",
            "  boxes_y = torch.min(boxes_y, torch.tensor(height, dtype=boxes.dtype, device=boxes.device))\n",
            "/usr/local/lib/python3.10/dist-packages/torch/__init__.py:1559: TracerWarning: Converting a tensor to a Python boolean might cause the trace to be incorrect. We can't record the data flow of Python values, so this value will be treated as a constant in the future. This means that the trace might not generalize to other inputs!\n",
            "  assert condition, message\n",
            "/usr/local/lib/python3.10/dist-packages/torchvision/models/detection/transform.py:308: UserWarning: To copy construct from a tensor, it is recommended to use sourceTensor.clone().detach() or sourceTensor.clone().detach().requires_grad_(True), rather than torch.tensor(sourceTensor).\n",
            "  torch.tensor(s, dtype=torch.float32, device=boxes.device)\n",
            "/usr/local/lib/python3.10/dist-packages/torchvision/models/detection/transform.py:309: UserWarning: To copy construct from a tensor, it is recommended to use sourceTensor.clone().detach() or sourceTensor.clone().detach().requires_grad_(True), rather than torch.tensor(sourceTensor).\n",
            "  / torch.tensor(s_orig, dtype=torch.float32, device=boxes.device)\n",
            "/usr/local/lib/python3.10/dist-packages/torch/onnx/symbolic_opset9.py:5858: UserWarning: Exporting aten::index operator of advanced indexing in opset 11 is achieved by combination of multiple ONNX operators, including Reshape, Transpose, Concat, and Gather. If indices include negative values, the exported graph will produce incorrect results.\n",
            "  warnings.warn(\n"
          ]
        }
      ]
    },
    {
      "cell_type": "markdown",
      "source": [
        "run inference on onnx model, make sure outputs are as expected, then clock-it..."
      ],
      "metadata": {
        "id": "zBYYNDkcVeVF"
      }
    },
    {
      "cell_type": "code",
      "source": [
        "import onnxruntime\n",
        "import numpy as np\n",
        "\n",
        "ort_session = onnxruntime.InferenceSession(\"rcnn.onnx\", providers=[\"CPUExecutionProvider\"])\n",
        "# good to make sure inputs are as expected: '[i.name for i in ort_session.get_inputs()]'\n",
        "\n",
        "# onnx wants numpy tensor not torch tensor\n",
        "def to_numpy(tensor):\n",
        "    return tensor.detach().cpu().numpy() if tensor.requires_grad else tensor.cpu().numpy()\n",
        "\n",
        "# get a prediction.  onnx doesn't need a list input like torch model does\n",
        "ort_inputs = {ort_session.get_inputs()[0].name: to_numpy(image)}\n",
        "ort_outs = ort_session.run(None, ort_inputs)"
      ],
      "metadata": {
        "id": "1sM1p_37QgFn"
      },
      "execution_count": 20,
      "outputs": []
    },
    {
      "cell_type": "code",
      "source": [
        "# onxx outputs are list of three arrays corresponding to 'boxes', 'labels', and 'scores'\n",
        "print(\"onnx out shapes: \", [arr.shape for arr in ort_outs])\n",
        "# quant model out is tuple of (losses, outputs)\n",
        "torch_outs = __[1][0]\n",
        "print(\"torch out shapes: \", [torch_outs[k].shape for k in torch_outs])"
      ],
      "metadata": {
        "colab": {
          "base_uri": "https://localhost:8080/"
        },
        "id": "s9Oy1RW0VUnm",
        "outputId": "c63ab32c-123a-421b-e5ed-2695362647f0"
      },
      "execution_count": 22,
      "outputs": [
        {
          "output_type": "stream",
          "name": "stdout",
          "text": [
            "onnx out shapes:  [(100, 4), (100,), (100,)]\n",
            "torch out shapes:  [torch.Size([100, 4]), torch.Size([100]), torch.Size([100])]\n"
          ]
        }
      ]
    },
    {
      "cell_type": "code",
      "source": [
        "onnx_time = %timeit -o ort_session.run(None, ort_inputs)\n",
        "\n",
        "# sess = onnxruntime.InferenceSession('rcnn.onnx', providers=['TensorrtExecutionProvider', 'CUDAExecutionProvider'])\n",
        "# onnx_trt_time = %timeit -o sess.run(None, ort_inputs)"
      ],
      "metadata": {
        "colab": {
          "base_uri": "https://localhost:8080/"
        },
        "id": "WSUs1zDVWdVt",
        "outputId": "45740ebf-76f6-47eb-8f1c-dfec0fa29f55"
      },
      "execution_count": 113,
      "outputs": [
        {
          "output_type": "stream",
          "name": "stdout",
          "text": [
            "1.05 s ± 114 ms per loop (mean ± std. dev. of 7 runs, 1 loop each)\n"
          ]
        }
      ]
    },
    {
      "cell_type": "code",
      "source": [
        "# more steps for using trtexec which has issues with rcnn input shape\n",
        "# !sudo apt-get install tensorrt\n",
        "# !pip install tensorrt\n",
        "# !ls /usr/src/tensorrt/bin  # make sure trtexec is there\n",
        "# !/usr/src/tensorrt/bin/trtexec --onnx=rcnn.onnx --saveEngine=rcnn_engine_pytorch.trt"
      ],
      "metadata": {
        "id": "QXijN-ogNnd6"
      },
      "execution_count": 87,
      "outputs": []
    },
    {
      "cell_type": "markdown",
      "source": [
        "use the handy `torch-tensorrt` package..."
      ],
      "metadata": {
        "id": "RYHMkM1ViZCs"
      }
    },
    {
      "cell_type": "code",
      "source": [
        "%%capture\n",
        "\n",
        "!python -m pip install torch-tensorrt"
      ],
      "metadata": {
        "id": "VDRRz-Fgj2D3"
      },
      "execution_count": 57,
      "outputs": []
    },
    {
      "cell_type": "code",
      "source": [
        "%%capture\n",
        "\n",
        "device = torch.device(\"cuda\")\n",
        "rcnn.to(device)"
      ],
      "metadata": {
        "id": "kIJbkDBVnrc4"
      },
      "execution_count": 58,
      "outputs": []
    },
    {
      "cell_type": "code",
      "source": [
        "import torch_tensorrt\n",
        "\n",
        "# need to wrap rcnn inputs in list\n",
        "inputs = [[torch.randn(3, 200, 200).to(\"cuda\")]]  # .half()]\n",
        "\n",
        "trt_model = torch_tensorrt.compile(\n",
        "    deepcopy(rcnn),\n",
        "    ir=\"torch_compile\",\n",
        "    # frontend api below complains about input shape\n",
        "    # backend=\"torch_tensorrt\",\n",
        "    inputs=inputs,\n",
        "    enabled_precisions={torch.float32},  #  {torch.half}\n",
        "    debug=True,\n",
        "    workspace_size=20 << 30,\n",
        "    min_block_size=7,\n",
        "    torch_executed_ops={},\n",
        ")"
      ],
      "metadata": {
        "id": "hkLAvXMEXBRj"
      },
      "execution_count": 92,
      "outputs": []
    },
    {
      "cell_type": "code",
      "source": [
        "%%capture\n",
        "\n",
        "# contrary to docs, first run actually compiles model\n",
        "# https://pytorch.org/TensorRT/tutorials/_rendered_examples/dynamo/torch_compile_resnet_example.html#torch-compile-resnet\n",
        "outputs = trt_model(*inputs)"
      ],
      "metadata": {
        "id": "V8cKcrb-XO74"
      },
      "execution_count": 118,
      "outputs": []
    },
    {
      "cell_type": "code",
      "source": [
        "trt_time = %timeit -o trt_model(*inputs)"
      ],
      "metadata": {
        "colab": {
          "base_uri": "https://localhost:8080/"
        },
        "id": "ez1TrWKBG_tR",
        "outputId": "95cc8134-36e8-486e-8bb6-232dfb42117c"
      },
      "execution_count": 115,
      "outputs": [
        {
          "output_type": "stream",
          "name": "stdout",
          "text": [
            "26.1 ms ± 207 µs per loop (mean ± std. dev. of 7 runs, 10 loops each)\n"
          ]
        }
      ]
    },
    {
      "cell_type": "code",
      "source": [
        "import matplotlib.pyplot as plt\n",
        "\n",
        "fig, ax = plt.subplots()\n",
        "\n",
        "runtime = [\n",
        "    'cpu',\n",
        "    'quant',\n",
        "    'onnx',\n",
        "    'gpu',\n",
        "    'gpu half',\n",
        "    'tensorrt'\n",
        "    ]\n",
        "latency = [\n",
        "    cpu_time.average,\n",
        "    quant_time.average,\n",
        "    onnx_time.average,\n",
        "    gpu_time.average,\n",
        "    gpu_half_time.average,\n",
        "    trt_time.average\n",
        "    ]\n",
        "latency = [round(n, 3) for n in latency]\n",
        "\n",
        "ax.bar(runtime, latency)\n",
        "\n",
        "ax.set_ylabel('latency (ms)')\n",
        "ax.set_yscale('log')\n",
        "\n",
        "plt.show()"
      ],
      "metadata": {
        "colab": {
          "base_uri": "https://localhost:8080/",
          "height": 430
        },
        "id": "U94DlIWMG_le",
        "outputId": "90f3c99e-36be-4f17-b4f5-1d8a49d32e76"
      },
      "execution_count": 117,
      "outputs": [
        {
          "output_type": "display_data",
          "data": {
            "text/plain": [
              "<Figure size 640x480 with 1 Axes>"
            ],
            "image/png": "[encoded data removed]"
          },
          "metadata": {}
        }
      ]
    },
    {
      "cell_type": "markdown",
      "source": [
        "... half precision on the GPU is nearly as fast as TensorRT.. with TensorRT can also use half-precision to improve latency even more ..."
      ],
      "metadata": {
        "id": "q8omBOEnltfg"
      }
    },
    {
      "cell_type": "code",
      "source": [],
      "metadata": {
        "id": "9XRpoZxVXYWx"
      },
      "execution_count": null,
      "outputs": []
    },
    {
      "cell_type": "code",
      "source": [
        "#| code-fold: true\n",
        "# plot latency for all methods (bar chart)"
      ],
      "metadata": {
        "id": "22ODTOhgdl_s"
      },
      "execution_count": null,
      "outputs": []
    }
  ]
}