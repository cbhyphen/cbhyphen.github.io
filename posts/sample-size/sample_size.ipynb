{
  "nbformat": 4,
  "nbformat_minor": 0,
  "metadata": {
    "colab": {
      "provenance": []
    },
    "kernelspec": {
      "name": "python3",
      "display_name": "Python 3"
    },
    "language_info": {
      "name": "python"
    }
  },
  "cells": [
    {
      "cell_type": "markdown",
      "source": [
        "---\n",
        "title: \"Sample Size for A/B Testing\"\n",
        "author: \"chris\"\n",
        "date: 2024-03-31\n",
        "draft: false\n",
        "---"
      ],
      "metadata": {
        "id": "CTcan50kmWar"
      }
    },
    {
      "cell_type": "markdown",
      "source": [
        "outline:\n",
        "\n",
        "- work convo that led to reviving old project\n",
        "- a/b testing layman terms\n",
        "- examples; rate of ... conversions, approvals, etc\n",
        "- number of binary outcomes -> binomial -> normal approximation\n",
        "- why sample size is important and minimum detectable effect\n",
        "- derivation (with figures/graphics) and show calculator"
      ],
      "metadata": {
        "id": "_Z1NU-sMndsG"
      }
    },
    {
      "cell_type": "markdown",
      "source": [
        "$$X \\sim B(n, p)$$\n",
        "\n",
        "where $n$ is number of trials and $p$ is the probability of a success\n",
        "\n",
        "the expected value $E[X] = np$ and variance $Var(X) = np(1 - p)$"
      ],
      "metadata": {
        "id": "d39uB3G-o1Zk"
      }
    },
    {
      "cell_type": "code",
      "source": [],
      "metadata": {
        "id": "fZvBwnNzmjbj"
      },
      "execution_count": null,
      "outputs": []
    },
    {
      "cell_type": "code",
      "source": [],
      "metadata": {
        "id": "coDgv243mkBI"
      },
      "execution_count": null,
      "outputs": []
    }
  ]
}